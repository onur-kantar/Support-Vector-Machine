{
  "nbformat": 4,
  "nbformat_minor": 0,
  "metadata": {
    "colab": {
      "name": "SVM.ipynb",
      "provenance": [],
      "collapsed_sections": [],
      "toc_visible": true
    },
    "kernelspec": {
      "name": "python3",
      "display_name": "Python 3"
    }
  },
  "cells": [
    {
      "cell_type": "markdown",
      "metadata": {
        "id": "xjgXe3-qhVKP",
        "colab_type": "text"
      },
      "source": [
        "# Ön Bilgi\n",
        "**Geliştiren :** Onur Kantar - Ömer Resul Ertan\n",
        "\n",
        "**Veri Kümesinin İçeriği :** 3 farklı sınıfa ait toplamda 17000 tweet bulunmaktadır.\n",
        "\n",
        "**Tweet Sınıfları :** \n",
        "\n",
        "-\tOlumlu Tweetler\n",
        "-\tOlumsuz Tweetler\n",
        "-\tNötr Tweetler\n",
        "\n",
        "**Veri Kümesi Referansı :** “Duygudurum Analizinde Kelimeler, Anlamlar, Karakterler”,  Mehmet Fatih Amasyali, Hakan Taşköprü, Kübra Çalışkan, Akıllı Sistemlerde Yenilikler ve Uygulamaları Sempozyumu (ASYU), 4-6 Ekim 2018, Adana.\n",
        "\n",
        "**Algoritma :** Support Vector Machine (SVM)\n",
        "\n",
        "**Ağ Mimarisi :** \n",
        "\n",
        "\n",
        "**batch_size :** \n",
        "\n",
        "**epochs :** \n",
        "\n",
        "**Doğruluk Oranı :** %100\n",
        "\n",
        "\n",
        "---\n",
        "\n"
      ]
    },
    {
      "cell_type": "code",
      "metadata": {
        "id": "vVlVvRTAiXd3",
        "colab_type": "code",
        "colab": {
          "base_uri": "https://localhost:8080/",
          "height": 87
        },
        "outputId": "bcd2b69b-12c1-4819-cd02-011461786262"
      },
      "source": [
        "import pandas as pd                     \n",
        "import re\n",
        "import nltk\n",
        "from nltk.corpus import stopwords\n",
        "import seaborn as sns\n",
        "from sklearn import preprocessing\n",
        "from sklearn.preprocessing import StandardScaler\n",
        "from keras.utils import to_categorical\n",
        "from sklearn.model_selection import train_test_split\n",
        "from keras.preprocessing.text import Tokenizer\n",
        "from keras.preprocessing.sequence import pad_sequences\n",
        "from sklearn.tree import DecisionTreeClassifier\n",
        "from sklearn.metrics import accuracy_score\n",
        "import numpy as np\n",
        "from sklearn.metrics import confusion_matrix\n",
        "from mlxtend.plotting import plot_confusion_matrix"
      ],
      "execution_count": 1,
      "outputs": [
        {
          "output_type": "stream",
          "text": [
            "/usr/local/lib/python3.6/dist-packages/statsmodels/tools/_testing.py:19: FutureWarning: pandas.util.testing is deprecated. Use the functions in the public API at pandas.testing instead.\n",
            "  import pandas.util.testing as tm\n",
            "Using TensorFlow backend.\n"
          ],
          "name": "stderr"
        }
      ]
    },
    {
      "cell_type": "code",
      "metadata": {
        "id": "i2Wvf_77gEyv",
        "colab_type": "code",
        "colab": {
          "base_uri": "https://localhost:8080/",
          "height": 402
        },
        "outputId": "501ab543-8e75-4d4f-be27-8fba59ea147e"
      },
      "source": [
        "tweets = pd.read_csv(\"/content/drive/My Drive/Colab Notebooks/Data Sets/3000tweet/3000tweet.csv\", sep=';', encoding=\"utf8\")\n",
        "tweets"
      ],
      "execution_count": 2,
      "outputs": [
        {
          "output_type": "execute_result",
          "data": {
            "text/html": [
              "<div>\n",
              "<style scoped>\n",
              "    .dataframe tbody tr th:only-of-type {\n",
              "        vertical-align: middle;\n",
              "    }\n",
              "\n",
              "    .dataframe tbody tr th {\n",
              "        vertical-align: top;\n",
              "    }\n",
              "\n",
              "    .dataframe thead th {\n",
              "        text-align: right;\n",
              "    }\n",
              "</style>\n",
              "<table border=\"1\" class=\"dataframe\">\n",
              "  <thead>\n",
              "    <tr style=\"text-align: right;\">\n",
              "      <th></th>\n",
              "      <th>tweet</th>\n",
              "      <th>durum</th>\n",
              "    </tr>\n",
              "  </thead>\n",
              "  <tbody>\n",
              "    <tr>\n",
              "      <th>0</th>\n",
              "      <td>dun Turkcelle tepkilerimizden sonra bugün Turk...</td>\n",
              "      <td>1</td>\n",
              "    </tr>\n",
              "    <tr>\n",
              "      <th>1</th>\n",
              "      <td>girmezmiyim.. Turkcell kartim bile var.. Yarin...</td>\n",
              "      <td>1</td>\n",
              "    </tr>\n",
              "    <tr>\n",
              "      <th>2</th>\n",
              "      <td>tam tünelden gecerken 3g cekiyordu :D türkcell...</td>\n",
              "      <td>1</td>\n",
              "    </tr>\n",
              "    <tr>\n",
              "      <th>3</th>\n",
              "      <td>turkcell superonline fiber internet veya ADSL ...</td>\n",
              "      <td>1</td>\n",
              "    </tr>\n",
              "    <tr>\n",
              "      <th>4</th>\n",
              "      <td>bence Gnçtrkcll Ark Winterfest 2012'de 1.olur ...</td>\n",
              "      <td>1</td>\n",
              "    </tr>\n",
              "    <tr>\n",
              "      <th>...</th>\n",
              "      <td>...</td>\n",
              "      <td>...</td>\n",
              "    </tr>\n",
              "    <tr>\n",
              "      <th>2995</th>\n",
              "      <td>Evet kesinlikle çok az.. Turkcell bu konuda şu...</td>\n",
              "      <td>3</td>\n",
              "    </tr>\n",
              "    <tr>\n",
              "      <th>2996</th>\n",
              "      <td>selocan nedir abicim ya ?</td>\n",
              "      <td>3</td>\n",
              "    </tr>\n",
              "    <tr>\n",
              "      <th>2997</th>\n",
              "      <td>özturkcell e dönücz diye korkuyorum ama çanakk...</td>\n",
              "      <td>3</td>\n",
              "    </tr>\n",
              "    <tr>\n",
              "      <th>2998</th>\n",
              "      <td>turkcell se 532 yi ara puk kodunu ogrenme menu...</td>\n",
              "      <td>3</td>\n",
              "    </tr>\n",
              "    <tr>\n",
              "      <th>2999</th>\n",
              "      <td>CHIP Galaxy Y ve Chat Türkiye'de!: Samsung'un ...</td>\n",
              "      <td>3</td>\n",
              "    </tr>\n",
              "  </tbody>\n",
              "</table>\n",
              "<p>3000 rows × 2 columns</p>\n",
              "</div>"
            ],
            "text/plain": [
              "                                                  tweet  durum\n",
              "0     dun Turkcelle tepkilerimizden sonra bugün Turk...      1\n",
              "1     girmezmiyim.. Turkcell kartim bile var.. Yarin...      1\n",
              "2     tam tünelden gecerken 3g cekiyordu :D türkcell...      1\n",
              "3     turkcell superonline fiber internet veya ADSL ...      1\n",
              "4     bence Gnçtrkcll Ark Winterfest 2012'de 1.olur ...      1\n",
              "...                                                 ...    ...\n",
              "2995  Evet kesinlikle çok az.. Turkcell bu konuda şu...      3\n",
              "2996                          selocan nedir abicim ya ?      3\n",
              "2997  özturkcell e dönücz diye korkuyorum ama çanakk...      3\n",
              "2998  turkcell se 532 yi ara puk kodunu ogrenme menu...      3\n",
              "2999  CHIP Galaxy Y ve Chat Türkiye'de!: Samsung'un ...      3\n",
              "\n",
              "[3000 rows x 2 columns]"
            ]
          },
          "metadata": {
            "tags": []
          },
          "execution_count": 2
        }
      ]
    },
    {
      "cell_type": "markdown",
      "metadata": {
        "id": "zWB-sdU0Uumz",
        "colab_type": "text"
      },
      "source": [
        "# Veri Kümemizi Düzenleyelim : \n",
        "\n",
        "---\n",
        "\n"
      ]
    },
    {
      "cell_type": "markdown",
      "metadata": {
        "id": "cgwIsbnsU1nB",
        "colab_type": "text"
      },
      "source": [
        "### NULL Değerleri Silme İşlemi : "
      ]
    },
    {
      "cell_type": "code",
      "metadata": {
        "id": "4sgyQWIpU9KE",
        "colab_type": "code",
        "colab": {
          "base_uri": "https://localhost:8080/",
          "height": 67
        },
        "outputId": "5963397e-45aa-4c51-95fd-79ab7787eabc"
      },
      "source": [
        "tweets.isnull().sum()"
      ],
      "execution_count": 3,
      "outputs": [
        {
          "output_type": "execute_result",
          "data": {
            "text/plain": [
              "tweet    1\n",
              "durum    0\n",
              "dtype: int64"
            ]
          },
          "metadata": {
            "tags": []
          },
          "execution_count": 3
        }
      ]
    },
    {
      "cell_type": "code",
      "metadata": {
        "id": "AlCyAlwjU-Ga",
        "colab_type": "code",
        "colab": {
          "base_uri": "https://localhost:8080/",
          "height": 67
        },
        "outputId": "d92457b7-761c-49a6-aa73-a6a09471587c"
      },
      "source": [
        "tweets = tweets.dropna().reset_index(drop=True)\n",
        "tweets.isnull().sum()"
      ],
      "execution_count": 4,
      "outputs": [
        {
          "output_type": "execute_result",
          "data": {
            "text/plain": [
              "tweet    0\n",
              "durum    0\n",
              "dtype: int64"
            ]
          },
          "metadata": {
            "tags": []
          },
          "execution_count": 4
        }
      ]
    },
    {
      "cell_type": "markdown",
      "metadata": {
        "id": "euHvgy8-VLQJ",
        "colab_type": "text"
      },
      "source": [
        "### Gereksiz Kelimeleri - Boşukları - İşaretleri Silme İşlemleri :  "
      ]
    },
    {
      "cell_type": "code",
      "metadata": {
        "id": "cubr8YyQU_yF",
        "colab_type": "code",
        "colab": {
          "base_uri": "https://localhost:8080/",
          "height": 941
        },
        "outputId": "624018a5-b329-41a7-fa54-e2cc667e8368"
      },
      "source": [
        "nltk.download('stopwords')\n",
        "stop_word_list = stopwords.words('turkish')\n",
        "stop_word_list"
      ],
      "execution_count": 5,
      "outputs": [
        {
          "output_type": "stream",
          "text": [
            "[nltk_data] Downloading package stopwords to /root/nltk_data...\n",
            "[nltk_data]   Package stopwords is already up-to-date!\n"
          ],
          "name": "stdout"
        },
        {
          "output_type": "execute_result",
          "data": {
            "text/plain": [
              "['acaba',\n",
              " 'ama',\n",
              " 'aslında',\n",
              " 'az',\n",
              " 'bazı',\n",
              " 'belki',\n",
              " 'biri',\n",
              " 'birkaç',\n",
              " 'birşey',\n",
              " 'biz',\n",
              " 'bu',\n",
              " 'çok',\n",
              " 'çünkü',\n",
              " 'da',\n",
              " 'daha',\n",
              " 'de',\n",
              " 'defa',\n",
              " 'diye',\n",
              " 'eğer',\n",
              " 'en',\n",
              " 'gibi',\n",
              " 'hem',\n",
              " 'hep',\n",
              " 'hepsi',\n",
              " 'her',\n",
              " 'hiç',\n",
              " 'için',\n",
              " 'ile',\n",
              " 'ise',\n",
              " 'kez',\n",
              " 'ki',\n",
              " 'kim',\n",
              " 'mı',\n",
              " 'mu',\n",
              " 'mü',\n",
              " 'nasıl',\n",
              " 'ne',\n",
              " 'neden',\n",
              " 'nerde',\n",
              " 'nerede',\n",
              " 'nereye',\n",
              " 'niçin',\n",
              " 'niye',\n",
              " 'o',\n",
              " 'sanki',\n",
              " 'şey',\n",
              " 'siz',\n",
              " 'şu',\n",
              " 'tüm',\n",
              " 've',\n",
              " 'veya',\n",
              " 'ya',\n",
              " 'yani']"
            ]
          },
          "metadata": {
            "tags": []
          },
          "execution_count": 5
        }
      ]
    },
    {
      "cell_type": "code",
      "metadata": {
        "id": "aJCqQS7_VP5r",
        "colab_type": "code",
        "colab": {}
      },
      "source": [
        "def preprocess_text(sen):\n",
        "    \n",
        "    # Sayıları Silme İşlemi\n",
        "    sentence = re.sub('[\\d\\s]', ' ', str(sen))\n",
        "\n",
        "    # Noktalama İşaretlerini Silme İşlemi\n",
        "    sentence = re.sub('[^\\w\\s]', ' ', str(sentence))\n",
        "    \n",
        "    # Tek Karakterleri Silme İşlemi\n",
        "    sentence = re.sub(r\"\\b[\\w\\s]\\b\", ' ',str(sentence))\n",
        "    \n",
        "    # Birden Çok Boşluğu Silme İşlemi\n",
        "    sentence = re.sub(r'\\s+', ' ', sentence)\n",
        "        \n",
        "    # Engellenecek Kelimeleri Silme İşlemi\n",
        "    WPT = nltk.WordPunctTokenizer()\n",
        "    tokens = WPT.tokenize(sentence)\n",
        "    filtered_tokens = [token for token in tokens if token not in stop_word_list]\n",
        "    single_doc = ' '.join(filtered_tokens)\n",
        "    \n",
        "    # Tüm Harfler Küçük Harfe Dönüştürülüyor\n",
        "    return single_doc.lower()"
      ],
      "execution_count": 6,
      "outputs": []
    },
    {
      "cell_type": "code",
      "metadata": {
        "id": "VdYeNLeelrYy",
        "colab_type": "code",
        "colab": {}
      },
      "source": [
        "x = tweets['tweet']\n",
        "y = tweets['durum']"
      ],
      "execution_count": 7,
      "outputs": []
    },
    {
      "cell_type": "code",
      "metadata": {
        "id": "s_xWMHOmlufm",
        "colab_type": "code",
        "colab": {
          "base_uri": "https://localhost:8080/",
          "height": 402
        },
        "outputId": "2918acb5-aea0-4f36-deb5-fe389c884b59"
      },
      "source": [
        "x = x.apply(preprocess_text)\n",
        "pd.DataFrame(data=x)"
      ],
      "execution_count": 8,
      "outputs": [
        {
          "output_type": "execute_result",
          "data": {
            "text/html": [
              "<div>\n",
              "<style scoped>\n",
              "    .dataframe tbody tr th:only-of-type {\n",
              "        vertical-align: middle;\n",
              "    }\n",
              "\n",
              "    .dataframe tbody tr th {\n",
              "        vertical-align: top;\n",
              "    }\n",
              "\n",
              "    .dataframe thead th {\n",
              "        text-align: right;\n",
              "    }\n",
              "</style>\n",
              "<table border=\"1\" class=\"dataframe\">\n",
              "  <thead>\n",
              "    <tr style=\"text-align: right;\">\n",
              "      <th></th>\n",
              "      <th>tweet</th>\n",
              "    </tr>\n",
              "  </thead>\n",
              "  <tbody>\n",
              "    <tr>\n",
              "      <th>0</th>\n",
              "      <td>dun turkcelle tepkilerimizden sonra bugün turk...</td>\n",
              "    </tr>\n",
              "    <tr>\n",
              "      <th>1</th>\n",
              "      <td>girmezmiyim turkcell kartim bile var yarindan ...</td>\n",
              "    </tr>\n",
              "    <tr>\n",
              "      <th>2</th>\n",
              "      <td>tam tünelden gecerken cekiyordu türkcell in re...</td>\n",
              "    </tr>\n",
              "    <tr>\n",
              "      <th>3</th>\n",
              "      <td>turkcell superonline fiber internet adsl sabit...</td>\n",
              "    </tr>\n",
              "    <tr>\n",
              "      <th>4</th>\n",
              "      <td>bence gnçtrkcll ark winterfest olur gelir</td>\n",
              "    </tr>\n",
              "    <tr>\n",
              "      <th>...</th>\n",
              "      <td>...</td>\n",
              "    </tr>\n",
              "    <tr>\n",
              "      <th>2994</th>\n",
              "      <td>evet kesinlikle turkcell konuda an uygun değil...</td>\n",
              "    </tr>\n",
              "    <tr>\n",
              "      <th>2995</th>\n",
              "      <td>selocan nedir abicim</td>\n",
              "    </tr>\n",
              "    <tr>\n",
              "      <th>2996</th>\n",
              "      <td>özturkcell dönücz korkuyorum çanakkale holding...</td>\n",
              "    </tr>\n",
              "    <tr>\n",
              "      <th>2997</th>\n",
              "      <td>turkcell se yi ara puk kodunu ogrenme menusund...</td>\n",
              "    </tr>\n",
              "    <tr>\n",
              "      <th>2998</th>\n",
              "      <td>chip galaxy chat türkiye samsung un kompakt ce...</td>\n",
              "    </tr>\n",
              "  </tbody>\n",
              "</table>\n",
              "<p>2999 rows × 1 columns</p>\n",
              "</div>"
            ],
            "text/plain": [
              "                                                  tweet\n",
              "0     dun turkcelle tepkilerimizden sonra bugün turk...\n",
              "1     girmezmiyim turkcell kartim bile var yarindan ...\n",
              "2     tam tünelden gecerken cekiyordu türkcell in re...\n",
              "3     turkcell superonline fiber internet adsl sabit...\n",
              "4             bence gnçtrkcll ark winterfest olur gelir\n",
              "...                                                 ...\n",
              "2994  evet kesinlikle turkcell konuda an uygun değil...\n",
              "2995                               selocan nedir abicim\n",
              "2996  özturkcell dönücz korkuyorum çanakkale holding...\n",
              "2997  turkcell se yi ara puk kodunu ogrenme menusund...\n",
              "2998  chip galaxy chat türkiye samsung un kompakt ce...\n",
              "\n",
              "[2999 rows x 1 columns]"
            ]
          },
          "metadata": {
            "tags": []
          },
          "execution_count": 8
        }
      ]
    },
    {
      "cell_type": "code",
      "metadata": {
        "id": "VK8zrmo2mdey",
        "colab_type": "code",
        "colab": {
          "base_uri": "https://localhost:8080/",
          "height": 296
        },
        "outputId": "955ffbe2-2cff-4bae-c7e4-fd606c5cc5bb"
      },
      "source": [
        "sns.countplot(y)"
      ],
      "execution_count": 9,
      "outputs": [
        {
          "output_type": "execute_result",
          "data": {
            "text/plain": [
              "<matplotlib.axes._subplots.AxesSubplot at 0x7f8e8f1cbc50>"
            ]
          },
          "metadata": {
            "tags": []
          },
          "execution_count": 9
        },
        {
          "output_type": "display_data",
          "data": {
            "image/png": "[encoded data removed]",
            "text/plain": [
              "<Figure size 432x288 with 1 Axes>"
            ]
          },
          "metadata": {
            "tags": [],
            "needs_background": "light"
          }
        }
      ]
    },
    {
      "cell_type": "markdown",
      "metadata": {
        "id": "QYAWu8NNqPjV",
        "colab_type": "text"
      },
      "source": [
        "## Kelimeleri Sayılara Dönüştürelim : \n",
        "\n",
        "Veri setimizin işlenebilmesi için text verileri numaralara çevirmemiz gerekir.\n"
      ]
    },
    {
      "cell_type": "code",
      "metadata": {
        "id": "lCI2pvRzp8vh",
        "colab_type": "code",
        "colab": {}
      },
      "source": [
        "token = Tokenizer()\n",
        "# Her kelimenin sıklığını hesaplar\n",
        "token.fit_on_texts(x)\n",
        "# Tüm kelimeleri sayı dizisine dönüştürür\n",
        "x = token.texts_to_sequences(x)\n",
        "# Bütün metinlerimiz en uzun kelimeden oluşan metnimiz kadar sütundan oluşan (23) bir dizi ile temsil edilecek.\n",
        "# 23'den kısa metinlerin boşlukları 0'lar ile doldurulacak.\n",
        "x = pad_sequences(x)"
      ],
      "execution_count": 10,
      "outputs": []
    },
    {
      "cell_type": "code",
      "metadata": {
        "id": "-txDv2MwqVla",
        "colab_type": "code",
        "colab": {
          "base_uri": "https://localhost:8080/",
          "height": 195
        },
        "outputId": "2bfcf244-6d09-4418-8ea2-4bb35812cd1e"
      },
      "source": [
        "pd.DataFrame(x).sample(5)"
      ],
      "execution_count": 11,
      "outputs": [
        {
          "output_type": "execute_result",
          "data": {
            "text/html": [
              "<div>\n",
              "<style scoped>\n",
              "    .dataframe tbody tr th:only-of-type {\n",
              "        vertical-align: middle;\n",
              "    }\n",
              "\n",
              "    .dataframe tbody tr th {\n",
              "        vertical-align: top;\n",
              "    }\n",
              "\n",
              "    .dataframe thead th {\n",
              "        text-align: right;\n",
              "    }\n",
              "</style>\n",
              "<table border=\"1\" class=\"dataframe\">\n",
              "  <thead>\n",
              "    <tr style=\"text-align: right;\">\n",
              "      <th></th>\n",
              "      <th>0</th>\n",
              "      <th>1</th>\n",
              "      <th>2</th>\n",
              "      <th>3</th>\n",
              "      <th>4</th>\n",
              "      <th>5</th>\n",
              "      <th>6</th>\n",
              "      <th>7</th>\n",
              "      <th>8</th>\n",
              "      <th>9</th>\n",
              "      <th>10</th>\n",
              "      <th>11</th>\n",
              "      <th>12</th>\n",
              "      <th>13</th>\n",
              "      <th>14</th>\n",
              "      <th>15</th>\n",
              "      <th>16</th>\n",
              "      <th>17</th>\n",
              "      <th>18</th>\n",
              "      <th>19</th>\n",
              "      <th>20</th>\n",
              "      <th>21</th>\n",
              "      <th>22</th>\n",
              "    </tr>\n",
              "  </thead>\n",
              "  <tbody>\n",
              "    <tr>\n",
              "      <th>1115</th>\n",
              "      <td>0</td>\n",
              "      <td>0</td>\n",
              "      <td>0</td>\n",
              "      <td>0</td>\n",
              "      <td>0</td>\n",
              "      <td>0</td>\n",
              "      <td>0</td>\n",
              "      <td>0</td>\n",
              "      <td>0</td>\n",
              "      <td>0</td>\n",
              "      <td>110</td>\n",
              "      <td>6054</td>\n",
              "      <td>960</td>\n",
              "      <td>1</td>\n",
              "      <td>6055</td>\n",
              "      <td>2524</td>\n",
              "      <td>6056</td>\n",
              "      <td>6057</td>\n",
              "      <td>495</td>\n",
              "      <td>107</td>\n",
              "      <td>6058</td>\n",
              "      <td>71</td>\n",
              "      <td>6059</td>\n",
              "    </tr>\n",
              "    <tr>\n",
              "      <th>2270</th>\n",
              "      <td>0</td>\n",
              "      <td>0</td>\n",
              "      <td>0</td>\n",
              "      <td>0</td>\n",
              "      <td>0</td>\n",
              "      <td>0</td>\n",
              "      <td>0</td>\n",
              "      <td>0</td>\n",
              "      <td>0</td>\n",
              "      <td>0</td>\n",
              "      <td>0</td>\n",
              "      <td>0</td>\n",
              "      <td>0</td>\n",
              "      <td>0</td>\n",
              "      <td>0</td>\n",
              "      <td>45</td>\n",
              "      <td>55</td>\n",
              "      <td>9565</td>\n",
              "      <td>222</td>\n",
              "      <td>1303</td>\n",
              "      <td>9566</td>\n",
              "      <td>9567</td>\n",
              "      <td>9568</td>\n",
              "    </tr>\n",
              "    <tr>\n",
              "      <th>357</th>\n",
              "      <td>0</td>\n",
              "      <td>0</td>\n",
              "      <td>0</td>\n",
              "      <td>0</td>\n",
              "      <td>0</td>\n",
              "      <td>0</td>\n",
              "      <td>0</td>\n",
              "      <td>0</td>\n",
              "      <td>0</td>\n",
              "      <td>0</td>\n",
              "      <td>0</td>\n",
              "      <td>0</td>\n",
              "      <td>0</td>\n",
              "      <td>0</td>\n",
              "      <td>0</td>\n",
              "      <td>0</td>\n",
              "      <td>0</td>\n",
              "      <td>50</td>\n",
              "      <td>3980</td>\n",
              "      <td>3981</td>\n",
              "      <td>7</td>\n",
              "      <td>11</td>\n",
              "      <td>3</td>\n",
              "    </tr>\n",
              "    <tr>\n",
              "      <th>2945</th>\n",
              "      <td>0</td>\n",
              "      <td>0</td>\n",
              "      <td>0</td>\n",
              "      <td>0</td>\n",
              "      <td>0</td>\n",
              "      <td>0</td>\n",
              "      <td>0</td>\n",
              "      <td>0</td>\n",
              "      <td>11597</td>\n",
              "      <td>72</td>\n",
              "      <td>741</td>\n",
              "      <td>3120</td>\n",
              "      <td>163</td>\n",
              "      <td>1</td>\n",
              "      <td>187</td>\n",
              "      <td>56</td>\n",
              "      <td>11598</td>\n",
              "      <td>4</td>\n",
              "      <td>458</td>\n",
              "      <td>791</td>\n",
              "      <td>1394</td>\n",
              "      <td>11599</td>\n",
              "      <td>11600</td>\n",
              "    </tr>\n",
              "    <tr>\n",
              "      <th>1200</th>\n",
              "      <td>0</td>\n",
              "      <td>0</td>\n",
              "      <td>0</td>\n",
              "      <td>0</td>\n",
              "      <td>0</td>\n",
              "      <td>0</td>\n",
              "      <td>0</td>\n",
              "      <td>0</td>\n",
              "      <td>0</td>\n",
              "      <td>0</td>\n",
              "      <td>0</td>\n",
              "      <td>2587</td>\n",
              "      <td>94</td>\n",
              "      <td>234</td>\n",
              "      <td>98</td>\n",
              "      <td>6326</td>\n",
              "      <td>2511</td>\n",
              "      <td>6327</td>\n",
              "      <td>576</td>\n",
              "      <td>1592</td>\n",
              "      <td>6328</td>\n",
              "      <td>166</td>\n",
              "      <td>6329</td>\n",
              "    </tr>\n",
              "  </tbody>\n",
              "</table>\n",
              "</div>"
            ],
            "text/plain": [
              "      0   1   2   3   4   5   6   7   ...    15     16    17    18    19    20     21     22\n",
              "1115   0   0   0   0   0   0   0   0  ...  2524   6056  6057   495   107  6058     71   6059\n",
              "2270   0   0   0   0   0   0   0   0  ...    45     55  9565   222  1303  9566   9567   9568\n",
              "357    0   0   0   0   0   0   0   0  ...     0      0    50  3980  3981     7     11      3\n",
              "2945   0   0   0   0   0   0   0   0  ...    56  11598     4   458   791  1394  11599  11600\n",
              "1200   0   0   0   0   0   0   0   0  ...  6326   2511  6327   576  1592  6328    166   6329\n",
              "\n",
              "[5 rows x 23 columns]"
            ]
          },
          "metadata": {
            "tags": []
          },
          "execution_count": 11
        }
      ]
    },
    {
      "cell_type": "markdown",
      "metadata": {
        "id": "jrM52TTKqo0N",
        "colab_type": "text"
      },
      "source": [
        "## X Verilerimizi Ölçeklendirelim : \n",
        "\n",
        "**Verileri Ölçeklendirme Nedir?**\n",
        "\n",
        "Ölçeklendirme dediğimiz şey veri setindeki iki farklı özelliğin (değişkenin) değerlerini en doğru şekilde analiz edebilmemize olanak sağlayan bir yöntemdir.\n",
        "\n",
        "- Verilerinizin dağılımının ortalama değeri 0 ve standart sapma değeri 1 olacak şekilde değiştiriyoruz (Standartlaştırma).\n",
        "- Tutarlılık oluşuyor. Bir veri diğer verilerden daha büyükse diğerleri üzerinde egemenlik kurabilir. Bunu istemeyiz.\n",
        "- Bir öğrenme modeliyle çalışırken, özellikleri sıfır merkezli bir aralığa ölçeklemek önemlidir.\n",
        "- Değerleri karşılaştırmak yerine oranları karşılaştırmış oluruz.\n",
        "\n",
        "**Örnek :**\n",
        "\n",
        "İki farklı insan düşünelim. Bu insanların birisinin geliri ayda 5.000 Türk Lirası iken diğerinin geliri ayda 200.000 Türk Lirası olsun. Bu insanların ikisi de her ay belirli miktarda maddi yardım için maaşlarının bir kısmını ayırıyorlar. Diyelim ki 5.000 Türk Lirası maaşı olan şahıs 1.500 Türk Lirasını yardıma ayırıyorken, 200.000 Türk Lirası alan şahıs 10.000 Türk Lirasını yardım için ayırıyor.\n",
        "\n",
        "Normal bir gözle bakarsak 10.000 Türk Lirası yardımda bulunan kişinin daha fazla yardım yaptığını görürüz. Fakat bunu oranladığımızda 5.000 Türk Lirası alan kişinin oransal olarak kat kat fazla yardım yaptığı anlaşılacaktır. İşte özellik ölçeklendirme ile biz bu özelliklerin sayısal değerlerinin birbirine yakın olmasını sağlayıp aralarındaki değerleri karşılaştırmak yerine oranları karşılaştırırız."
      ]
    },
    {
      "cell_type": "code",
      "metadata": {
        "id": "SequOqXeqaPw",
        "colab_type": "code",
        "colab": {}
      },
      "source": [
        "scaler = StandardScaler()\n",
        "x = scaler.fit_transform(x)"
      ],
      "execution_count": 12,
      "outputs": []
    },
    {
      "cell_type": "code",
      "metadata": {
        "id": "YDFBhFeqq2XY",
        "colab_type": "code",
        "colab": {
          "base_uri": "https://localhost:8080/",
          "height": 215
        },
        "outputId": "a4b09c0b-6146-492e-a4aa-892d4052fa76"
      },
      "source": [
        "pd.DataFrame(x).sample(5)"
      ],
      "execution_count": 13,
      "outputs": [
        {
          "output_type": "execute_result",
          "data": {
            "text/html": [
              "<div>\n",
              "<style scoped>\n",
              "    .dataframe tbody tr th:only-of-type {\n",
              "        vertical-align: middle;\n",
              "    }\n",
              "\n",
              "    .dataframe tbody tr th {\n",
              "        vertical-align: top;\n",
              "    }\n",
              "\n",
              "    .dataframe thead th {\n",
              "        text-align: right;\n",
              "    }\n",
              "</style>\n",
              "<table border=\"1\" class=\"dataframe\">\n",
              "  <thead>\n",
              "    <tr style=\"text-align: right;\">\n",
              "      <th></th>\n",
              "      <th>0</th>\n",
              "      <th>1</th>\n",
              "      <th>2</th>\n",
              "      <th>3</th>\n",
              "      <th>4</th>\n",
              "      <th>5</th>\n",
              "      <th>6</th>\n",
              "      <th>7</th>\n",
              "      <th>8</th>\n",
              "      <th>9</th>\n",
              "      <th>10</th>\n",
              "      <th>11</th>\n",
              "      <th>12</th>\n",
              "      <th>13</th>\n",
              "      <th>14</th>\n",
              "      <th>15</th>\n",
              "      <th>16</th>\n",
              "      <th>17</th>\n",
              "      <th>18</th>\n",
              "      <th>19</th>\n",
              "      <th>20</th>\n",
              "      <th>21</th>\n",
              "      <th>22</th>\n",
              "    </tr>\n",
              "  </thead>\n",
              "  <tbody>\n",
              "    <tr>\n",
              "      <th>2169</th>\n",
              "      <td>-0.018319</td>\n",
              "      <td>-0.022991</td>\n",
              "      <td>-0.033498</td>\n",
              "      <td>-0.042654</td>\n",
              "      <td>-0.075303</td>\n",
              "      <td>-0.119129</td>\n",
              "      <td>-0.167608</td>\n",
              "      <td>-0.225485</td>\n",
              "      <td>-0.279964</td>\n",
              "      <td>-0.320883</td>\n",
              "      <td>-0.355636</td>\n",
              "      <td>-0.322995</td>\n",
              "      <td>0.692244</td>\n",
              "      <td>-0.246241</td>\n",
              "      <td>2.789356</td>\n",
              "      <td>2.589818</td>\n",
              "      <td>2.445429</td>\n",
              "      <td>-0.331161</td>\n",
              "      <td>-0.130399</td>\n",
              "      <td>2.124315</td>\n",
              "      <td>0.173556</td>\n",
              "      <td>-0.308893</td>\n",
              "      <td>-0.650860</td>\n",
              "    </tr>\n",
              "    <tr>\n",
              "      <th>2177</th>\n",
              "      <td>-0.018319</td>\n",
              "      <td>-0.022991</td>\n",
              "      <td>-0.033498</td>\n",
              "      <td>-0.042654</td>\n",
              "      <td>-0.075303</td>\n",
              "      <td>-0.119129</td>\n",
              "      <td>-0.167608</td>\n",
              "      <td>-0.225485</td>\n",
              "      <td>-0.279964</td>\n",
              "      <td>-0.321374</td>\n",
              "      <td>-0.365379</td>\n",
              "      <td>-0.414129</td>\n",
              "      <td>-0.460660</td>\n",
              "      <td>-0.483752</td>\n",
              "      <td>-0.514478</td>\n",
              "      <td>-0.457614</td>\n",
              "      <td>-0.204303</td>\n",
              "      <td>-0.483669</td>\n",
              "      <td>-0.528284</td>\n",
              "      <td>2.130064</td>\n",
              "      <td>-0.709655</td>\n",
              "      <td>-0.795820</td>\n",
              "      <td>-0.836784</td>\n",
              "    </tr>\n",
              "    <tr>\n",
              "      <th>1089</th>\n",
              "      <td>-0.018319</td>\n",
              "      <td>-0.022991</td>\n",
              "      <td>-0.033498</td>\n",
              "      <td>-0.042654</td>\n",
              "      <td>-0.075303</td>\n",
              "      <td>-0.119129</td>\n",
              "      <td>-0.167608</td>\n",
              "      <td>-0.225485</td>\n",
              "      <td>-0.279964</td>\n",
              "      <td>-0.321374</td>\n",
              "      <td>-0.365379</td>\n",
              "      <td>-0.414129</td>\n",
              "      <td>-0.460660</td>\n",
              "      <td>-0.476904</td>\n",
              "      <td>1.603392</td>\n",
              "      <td>1.460402</td>\n",
              "      <td>-0.585026</td>\n",
              "      <td>-0.624445</td>\n",
              "      <td>1.164100</td>\n",
              "      <td>-0.665368</td>\n",
              "      <td>1.035697</td>\n",
              "      <td>0.874761</td>\n",
              "      <td>-0.145135</td>\n",
              "    </tr>\n",
              "    <tr>\n",
              "      <th>1715</th>\n",
              "      <td>-0.018319</td>\n",
              "      <td>-0.022991</td>\n",
              "      <td>-0.033498</td>\n",
              "      <td>-0.042654</td>\n",
              "      <td>-0.075303</td>\n",
              "      <td>-0.119129</td>\n",
              "      <td>-0.167608</td>\n",
              "      <td>-0.225485</td>\n",
              "      <td>-0.279964</td>\n",
              "      <td>-0.321374</td>\n",
              "      <td>-0.365379</td>\n",
              "      <td>-0.414129</td>\n",
              "      <td>-0.460660</td>\n",
              "      <td>-0.483752</td>\n",
              "      <td>-0.226048</td>\n",
              "      <td>-0.551760</td>\n",
              "      <td>2.016422</td>\n",
              "      <td>-0.549935</td>\n",
              "      <td>-0.505975</td>\n",
              "      <td>-0.191192</td>\n",
              "      <td>-0.637079</td>\n",
              "      <td>-0.646641</td>\n",
              "      <td>1.387068</td>\n",
              "    </tr>\n",
              "    <tr>\n",
              "      <th>2558</th>\n",
              "      <td>-0.018319</td>\n",
              "      <td>-0.022991</td>\n",
              "      <td>-0.033498</td>\n",
              "      <td>-0.042654</td>\n",
              "      <td>-0.075303</td>\n",
              "      <td>-0.119129</td>\n",
              "      <td>-0.167608</td>\n",
              "      <td>-0.225485</td>\n",
              "      <td>-0.279964</td>\n",
              "      <td>-0.321374</td>\n",
              "      <td>-0.365379</td>\n",
              "      <td>-0.414129</td>\n",
              "      <td>-0.460660</td>\n",
              "      <td>-0.483752</td>\n",
              "      <td>-0.514478</td>\n",
              "      <td>-0.556821</td>\n",
              "      <td>-0.597097</td>\n",
              "      <td>-0.624762</td>\n",
              "      <td>-0.663051</td>\n",
              "      <td>-0.698049</td>\n",
              "      <td>-0.714338</td>\n",
              "      <td>-0.795820</td>\n",
              "      <td>-0.754955</td>\n",
              "    </tr>\n",
              "  </tbody>\n",
              "</table>\n",
              "</div>"
            ],
            "text/plain": [
              "            0         1         2   ...        20        21        22\n",
              "2169 -0.018319 -0.022991 -0.033498  ...  0.173556 -0.308893 -0.650860\n",
              "2177 -0.018319 -0.022991 -0.033498  ... -0.709655 -0.795820 -0.836784\n",
              "1089 -0.018319 -0.022991 -0.033498  ...  1.035697  0.874761 -0.145135\n",
              "1715 -0.018319 -0.022991 -0.033498  ... -0.637079 -0.646641  1.387068\n",
              "2558 -0.018319 -0.022991 -0.033498  ... -0.714338 -0.795820 -0.754955\n",
              "\n",
              "[5 rows x 23 columns]"
            ]
          },
          "metadata": {
            "tags": []
          },
          "execution_count": 13
        }
      ]
    },
    {
      "cell_type": "markdown",
      "metadata": {
        "id": "LeRFgxc6q9d9",
        "colab_type": "text"
      },
      "source": [
        "# Y Verilerimizi One Hot Encoding Uygulamamız Gerekiyor :  \n",
        "\n",
        "\n",
        "---\n",
        "\n",
        "\n",
        "**One Hot Encoding Nedir?**\n",
        "\n",
        "One Hot Encoding, kategorik değişkenlerin ikili (binary) olarak temsil edilmesi anlamına gelmektedir. Bu işlem, ağın model için problemi daha kolay hale getirmesine yardımcı olabilir. \n",
        "\n",
        "\n",
        "- Bu işlem ilk önce kategorik değerlerin tamsayı değerleriyle eşlenmesini gerektirir.\n",
        "- Daha sonra, her bir tamsayı değeri, 1 ile işaretlenmiş tamsayı indeksi dışındaki tüm değerleri   sıfır  olan bir ikili vektör olarak temsil edilir."
      ]
    },
    {
      "cell_type": "code",
      "metadata": {
        "id": "8Z7ZtoURq3j5",
        "colab_type": "code",
        "colab": {
          "base_uri": "https://localhost:8080/",
          "height": 195
        },
        "outputId": "1b2021c8-58a4-4bfa-e14c-416c7ce78221"
      },
      "source": [
        "pd.DataFrame(y).sample(5)"
      ],
      "execution_count": 14,
      "outputs": [
        {
          "output_type": "execute_result",
          "data": {
            "text/html": [
              "<div>\n",
              "<style scoped>\n",
              "    .dataframe tbody tr th:only-of-type {\n",
              "        vertical-align: middle;\n",
              "    }\n",
              "\n",
              "    .dataframe tbody tr th {\n",
              "        vertical-align: top;\n",
              "    }\n",
              "\n",
              "    .dataframe thead th {\n",
              "        text-align: right;\n",
              "    }\n",
              "</style>\n",
              "<table border=\"1\" class=\"dataframe\">\n",
              "  <thead>\n",
              "    <tr style=\"text-align: right;\">\n",
              "      <th></th>\n",
              "      <th>durum</th>\n",
              "    </tr>\n",
              "  </thead>\n",
              "  <tbody>\n",
              "    <tr>\n",
              "      <th>914</th>\n",
              "      <td>2</td>\n",
              "    </tr>\n",
              "    <tr>\n",
              "      <th>1149</th>\n",
              "      <td>2</td>\n",
              "    </tr>\n",
              "    <tr>\n",
              "      <th>1417</th>\n",
              "      <td>2</td>\n",
              "    </tr>\n",
              "    <tr>\n",
              "      <th>887</th>\n",
              "      <td>2</td>\n",
              "    </tr>\n",
              "    <tr>\n",
              "      <th>1603</th>\n",
              "      <td>2</td>\n",
              "    </tr>\n",
              "  </tbody>\n",
              "</table>\n",
              "</div>"
            ],
            "text/plain": [
              "      durum\n",
              "914       2\n",
              "1149      2\n",
              "1417      2\n",
              "887       2\n",
              "1603      2"
            ]
          },
          "metadata": {
            "tags": []
          },
          "execution_count": 14
        }
      ]
    },
    {
      "cell_type": "code",
      "metadata": {
        "id": "CrBla6LtrDtU",
        "colab_type": "code",
        "colab": {
          "base_uri": "https://localhost:8080/",
          "height": 195
        },
        "outputId": "3b1016b5-15f5-468f-ddca-1a7eb6ba463f"
      },
      "source": [
        "le = preprocessing.LabelEncoder()\n",
        "y = le.fit_transform(y)\n",
        "pd.DataFrame(y).sample(5)"
      ],
      "execution_count": 15,
      "outputs": [
        {
          "output_type": "execute_result",
          "data": {
            "text/html": [
              "<div>\n",
              "<style scoped>\n",
              "    .dataframe tbody tr th:only-of-type {\n",
              "        vertical-align: middle;\n",
              "    }\n",
              "\n",
              "    .dataframe tbody tr th {\n",
              "        vertical-align: top;\n",
              "    }\n",
              "\n",
              "    .dataframe thead th {\n",
              "        text-align: right;\n",
              "    }\n",
              "</style>\n",
              "<table border=\"1\" class=\"dataframe\">\n",
              "  <thead>\n",
              "    <tr style=\"text-align: right;\">\n",
              "      <th></th>\n",
              "      <th>0</th>\n",
              "    </tr>\n",
              "  </thead>\n",
              "  <tbody>\n",
              "    <tr>\n",
              "      <th>2772</th>\n",
              "      <td>2</td>\n",
              "    </tr>\n",
              "    <tr>\n",
              "      <th>2776</th>\n",
              "      <td>2</td>\n",
              "    </tr>\n",
              "    <tr>\n",
              "      <th>2822</th>\n",
              "      <td>2</td>\n",
              "    </tr>\n",
              "    <tr>\n",
              "      <th>984</th>\n",
              "      <td>1</td>\n",
              "    </tr>\n",
              "    <tr>\n",
              "      <th>494</th>\n",
              "      <td>0</td>\n",
              "    </tr>\n",
              "  </tbody>\n",
              "</table>\n",
              "</div>"
            ],
            "text/plain": [
              "      0\n",
              "2772  2\n",
              "2776  2\n",
              "2822  2\n",
              "984   1\n",
              "494   0"
            ]
          },
          "metadata": {
            "tags": []
          },
          "execution_count": 15
        }
      ]
    },
    {
      "cell_type": "code",
      "metadata": {
        "id": "nKg1rQi8rGRc",
        "colab_type": "code",
        "colab": {}
      },
      "source": [
        "# y = to_categorical(y)\n",
        "# pd.DataFrame(y).sample(5)"
      ],
      "execution_count": 16,
      "outputs": []
    },
    {
      "cell_type": "markdown",
      "metadata": {
        "id": "PfuhRvEwrbl2",
        "colab_type": "text"
      },
      "source": [
        "# Train ve Test İşlemleri İçin Ayrımı Gerçekleştirelim : \n",
        "\n",
        "---\n"
      ]
    },
    {
      "cell_type": "code",
      "metadata": {
        "id": "vZ3KuVgorLU4",
        "colab_type": "code",
        "colab": {}
      },
      "source": [
        "x_train, x_test, y_train, y_test = train_test_split(x, y, test_size = 0.3, random_state = 42)"
      ],
      "execution_count": 17,
      "outputs": []
    },
    {
      "cell_type": "code",
      "metadata": {
        "id": "2xzI-22trfVt",
        "colab_type": "code",
        "colab": {
          "base_uri": "https://localhost:8080/",
          "height": 84
        },
        "outputId": "ebc6a59b-5ab9-4880-cffc-5ca1d9181f46"
      },
      "source": [
        "print('x Train : ' + str(x_train.shape))\n",
        "print('x Test : ' + str(x_test.shape))\n",
        "print('y Train : ' + str(y_train.shape))\n",
        "print('y Test : ' + str(y_test.shape))"
      ],
      "execution_count": 18,
      "outputs": [
        {
          "output_type": "stream",
          "text": [
            "x Train : (2099, 23)\n",
            "x Test : (900, 23)\n",
            "y Train : (2099,)\n",
            "y Test : (900,)\n"
          ],
          "name": "stdout"
        }
      ]
    },
    {
      "cell_type": "markdown",
      "metadata": {
        "id": "zbqs9_rrk4wP",
        "colab_type": "text"
      },
      "source": [
        "# Eğitime Başlayalım\n",
        "\n",
        "---\n"
      ]
    },
    {
      "cell_type": "code",
      "metadata": {
        "id": "hKQEAjcajcYn",
        "colab_type": "code",
        "colab": {}
      },
      "source": [
        "from sklearn.svm import SVC\n",
        "\n",
        "# SVC sınıfından bir nesne ürettik\n",
        "# Parametre olarak farklı kernel trick tipleri verilebilir.\n",
        "# Başarı oranının değiştiği gözlemlenecektir. ( ‘linear’, ‘poly’, ‘rbf’, ‘sigmoid’, ‘precomputed’ )\n",
        "# kernelin default değeri 'rbf' dir.\n",
        "svc = SVC(kernel = \"rbf\")"
      ],
      "execution_count": 49,
      "outputs": []
    },
    {
      "cell_type": "code",
      "metadata": {
        "id": "EGx6MRY0eux9",
        "colab_type": "code",
        "colab": {
          "base_uri": "https://localhost:8080/",
          "height": 84
        },
        "outputId": "9b3ec00c-09d0-4531-c1b0-d7f46a9d2c4e"
      },
      "source": [
        "# Makineyi eğitiyoruz\n",
        "svc.fit(x_train, y_train)\n"
      ],
      "execution_count": 50,
      "outputs": [
        {
          "output_type": "execute_result",
          "data": {
            "text/plain": [
              "SVC(C=1.0, break_ties=False, cache_size=200, class_weight=None, coef0=0.0,\n",
              "    decision_function_shape='ovr', degree=3, gamma='scale', kernel='rbf',\n",
              "    max_iter=-1, probability=False, random_state=None, shrinking=True,\n",
              "    tol=0.001, verbose=False)"
            ]
          },
          "metadata": {
            "tags": []
          },
          "execution_count": 50
        }
      ]
    },
    {
      "cell_type": "code",
      "metadata": {
        "id": "JWVcf4SXe25z",
        "colab_type": "code",
        "colab": {}
      },
      "source": [
        "\n",
        "# Test veri kümemizi verdik ve cinsiyet tahmin etmesini sağladık\n",
        "result = svc.predict(x_test)"
      ],
      "execution_count": 51,
      "outputs": []
    },
    {
      "cell_type": "code",
      "metadata": {
        "id": "DdJWmCFelCp3",
        "colab_type": "code",
        "colab": {
          "base_uri": "https://localhost:8080/",
          "height": 34
        },
        "outputId": "d06680c0-38e6-4410-e0ed-f021c3790017"
      },
      "source": [
        "accuracy_score(y_test,result)"
      ],
      "execution_count": 52,
      "outputs": [
        {
          "output_type": "execute_result",
          "data": {
            "text/plain": [
              "0.78"
            ]
          },
          "metadata": {
            "tags": []
          },
          "execution_count": 52
        }
      ]
    },
    {
      "cell_type": "markdown",
      "metadata": {
        "id": "KpowqwO-mcaW",
        "colab_type": "text"
      },
      "source": [
        "# Sonuçları Değerlendirelim\n",
        "\n",
        "---\n"
      ]
    },
    {
      "cell_type": "code",
      "metadata": {
        "id": "Gw7MGyCdmZmK",
        "colab_type": "code",
        "colab": {
          "base_uri": "https://localhost:8080/",
          "height": 388
        },
        "outputId": "4bbd9b8a-edb9-4590-ca2a-953418bfd5ae"
      },
      "source": [
        "y_pred = result\n",
        "\n",
        "\n",
        "cm = confusion_matrix(y_test, y_pred)\n",
        "\n",
        "fig, ax = plot_confusion_matrix(conf_mat = cm,\n",
        "                                show_normed = True,\n",
        "                                figsize = (6,6))"
      ],
      "execution_count": 53,
      "outputs": [
        {
          "output_type": "display_data",
          "data": {
            "image/png": "[encoded data removed]",
            "text/plain": [
              "<Figure size 432x432 with 1 Axes>"
            ]
          },
          "metadata": {
            "tags": [],
            "needs_background": "light"
          }
        }
      ]
    },
    {
      "cell_type": "code",
      "metadata": {
        "id": "jhQ9V6UOtrF2",
        "colab_type": "code",
        "colab": {}
      },
      "source": [
        ""
      ],
      "execution_count": 23,
      "outputs": []
    }
  ]
}